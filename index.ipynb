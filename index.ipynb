{
 "cells": [
  {
   "cell_type": "code",
   "execution_count": 75,
   "metadata": {},
   "outputs": [],
   "source": [
    "import pandas as pd\n",
    "import numpy as np\n",
    "from sklearn.feature_extraction.text import TfidfVectorizer\n",
    "from sklearn.linear_model import LogisticRegression\n",
    "from sklearn.tree import DecisionTreeClassifier\n",
    "from sklearn.ensemble import GradientBoostingClassifier, RandomForestClassifier\n",
    "from sklearn.metrics import accuracy_score, precision_score, recall_score, f1_score, roc_auc_score\n",
    "from sklearn.pipeline import Pipeline\n",
    "from sklearn.preprocessing import LabelEncoder\n",
    "import pickle"
   ]
  },
  {
   "cell_type": "code",
   "execution_count": 76,
   "metadata": {},
   "outputs": [
    {
     "name": "stdout",
     "output_type": "stream",
     "text": [
      "Index(['Unnamed: 0', 'title', 'text', 'subject', 'date', 'label'], dtype='object')\n",
      "Index(['Unnamed: 0', 'title', 'text', 'subject', 'date', 'label'], dtype='object')\n"
     ]
    }
   ],
   "source": [
    "train_data = pd.read_csv('train.tsv', sep='\\t')\n",
    "test_data = pd.read_csv('test.tsv', sep='\\t')\n",
    "\n",
    "print(train_data.columns)\n",
    "print(test_data.columns)"
   ]
  },
  {
   "cell_type": "code",
   "execution_count": 77,
   "metadata": {},
   "outputs": [],
   "source": [
    "train_data.dropna(inplace=True)\n",
    "test_data.dropna(inplace=True)\n",
    "\n",
    "train_data['combined_text'] = train_data['title'] + ' ' + train_data['text'] + ' ' + train_data['subject'] + ' ' + train_data['date'] \n",
    "test_data['combined_text'] = test_data['title'] + ' ' + test_data['text'] + ' ' + test_data['subject'] + ' ' + test_data['date']\n",
    "\n",
    "label_encoder = LabelEncoder()\n",
    "train_data['label'] = label_encoder.fit_transform(train_data['label'])\n",
    "test_data['label'] = label_encoder.transform(test_data['label'])\n",
    "\n",
    "X_train = train_data['combined_text']\n",
    "y_train = train_data['label']\n",
    "X_test = test_data['combined_text']\n",
    "y_test = test_data['label']"
   ]
  },
  {
   "cell_type": "code",
   "execution_count": 78,
   "metadata": {},
   "outputs": [],
   "source": [
    "classifiers = {\n",
    "    'Logistic Regression': LogisticRegression(),\n",
    "    'Decision Tree': DecisionTreeClassifier(max_depth=10, min_samples_split=10, class_weight='balanced'),\n",
    "    'Random Forest': RandomForestClassifier()\n",
    "}\n",
    "\n",
    "def evaluate_and_save_model(name, model, X_train, y_train, X_test, y_test):\n",
    "    pipeline = Pipeline([\n",
    "        ('tfidf', TfidfVectorizer()),\n",
    "        ('classifier', model)\n",
    "    ])\n",
    "    pipeline.fit(X_train, y_train)\n",
    "    y_pred = pipeline.predict(X_test)\n",
    "    y_pred_proba = pipeline.predict_proba(X_test)[:, 1] if hasattr(pipeline, 'predict_proba') else None\n",
    "\n",
    "    with open(f\"{name.replace(' ', '_').lower()}_model.pkl\", 'wb') as f:\n",
    "        pickle.dump(pipeline, f)\n",
    "\n",
    "    metrics = {\n",
    "        'Accuracy': accuracy_score(y_test, y_pred),\n",
    "        'Precision': precision_score(y_test, y_pred),\n",
    "        'Recall': recall_score(y_test, y_pred),\n",
    "        'F1 Score': f1_score(y_test, y_pred),\n",
    "        'ROC-AUC': roc_auc_score(y_test, y_pred_proba) if y_pred_proba is not None else 'N/A'\n",
    "    }\n",
    "\n",
    "    print(f\"\\n{name} Metrics:\")\n",
    "    for metric, value in metrics.items():\n",
    "        print(f\"{metric}: {value}\")\n",
    "\n",
    "    return y_pred"
   ]
  },
  {
   "cell_type": "code",
   "execution_count": 79,
   "metadata": {},
   "outputs": [
    {
     "name": "stdout",
     "output_type": "stream",
     "text": [
      "\n",
      "Logistic Regression Metrics:\n",
      "Accuracy: 0.9891133422039434\n",
      "Precision: 0.9874780866516404\n",
      "Recall: 0.9899573186040673\n",
      "F1 Score: 0.9887161484453361\n",
      "ROC-AUC: 0.9988212039355872\n",
      "\n",
      "Decision Tree Metrics:\n",
      "Accuracy: 0.9968549655255836\n",
      "Precision: 0.9964868255959849\n",
      "Recall: 0.9969871955812202\n",
      "F1 Score: 0.9967369477911646\n",
      "ROC-AUC: 0.9983172530875268\n",
      "\n",
      "Random Forest Metrics:\n",
      "Accuracy: 0.991169710898754\n",
      "Precision: 0.9936868686868687\n",
      "Recall: 0.9879487823248807\n",
      "F1 Score: 0.9908095178144278\n",
      "ROC-AUC: 0.9995916644337876\n"
     ]
    }
   ],
   "source": [
    "results = {}\n",
    "for name, classifier in classifiers.items():\n",
    "    results[name] = evaluate_and_save_model(name, classifier, X_train, y_train, X_test, y_test)\n",
    "\n",
    "def save_results(titles, results):\n",
    "    with open('result.txt', 'w') as f:\n",
    "        for model_name, predictions in results.items():\n",
    "            f.write(f\"{model_name} Results:\\n\")\n",
    "            output = list(zip(titles, predictions))\n",
    "            f.write(str(output) + '\\n\\n')\n",
    "\n",
    "save_results(test_data['title'].tolist(), results)"
   ]
  }
 ],
 "metadata": {
  "kernelspec": {
   "display_name": "Python 3",
   "language": "python",
   "name": "python3"
  },
  "language_info": {
   "codemirror_mode": {
    "name": "ipython",
    "version": 3
   },
   "file_extension": ".py",
   "mimetype": "text/x-python",
   "name": "python",
   "nbconvert_exporter": "python",
   "pygments_lexer": "ipython3",
   "version": "3.12.0"
  }
 },
 "nbformat": 4,
 "nbformat_minor": 2
}
